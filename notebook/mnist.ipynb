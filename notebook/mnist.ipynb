{
  "cells": [
    {
      "cell_type": "code",
      "execution_count": null,
      "metadata": {
        "_cell_guid": "b1076dfc-b9ad-4769-8c92-a6c4dae69d19",
        "_uuid": "8f2839f25d086af736a60e9eeb907d3b93b6e0e5",
        "execution": {
          "iopub.execute_input": "2024-01-16T11:13:47.282545Z",
          "iopub.status.busy": "2024-01-16T11:13:47.281543Z",
          "iopub.status.idle": "2024-01-16T11:13:51.980133Z",
          "shell.execute_reply": "2024-01-16T11:13:51.978922Z",
          "shell.execute_reply.started": "2024-01-16T11:13:47.282508Z"
        },
        "trusted": true
      },
      "outputs": [],
      "source": [
        "import torch\n",
        "import torch.nn as nn\n",
        "import torchvision\n",
        "import torchvision.transforms as transforms\n",
        "# import matplotlib.pyplot as plt"
      ]
    },
    {
      "cell_type": "code",
      "execution_count": null,
      "metadata": {
        "execution": {
          "iopub.execute_input": "2024-01-16T11:14:21.238221Z",
          "iopub.status.busy": "2024-01-16T11:14:21.237285Z",
          "iopub.status.idle": "2024-01-16T11:14:21.244282Z",
          "shell.execute_reply": "2024-01-16T11:14:21.243163Z",
          "shell.execute_reply.started": "2024-01-16T11:14:21.238181Z"
        },
        "trusted": true
      },
      "outputs": [
        {
          "name": "stdout",
          "output_type": "stream",
          "text": [
            "cpu\n"
          ]
        }
      ],
      "source": [
        "device=torch.device('cuda' if torch.cuda.is_available() else 'cpu')\n",
        "print(device)"
      ]
    },
    {
      "cell_type": "markdown",
      "metadata": {},
      "source": [
        "# HyperParameters"
      ]
    },
    {
      "cell_type": "code",
      "execution_count": null,
      "metadata": {
        "execution": {
          "iopub.execute_input": "2024-01-16T11:16:01.096894Z",
          "iopub.status.busy": "2024-01-16T11:16:01.096450Z",
          "iopub.status.idle": "2024-01-16T11:16:01.102053Z",
          "shell.execute_reply": "2024-01-16T11:16:01.100913Z",
          "shell.execute_reply.started": "2024-01-16T11:16:01.096853Z"
        },
        "trusted": true
      },
      "outputs": [],
      "source": [
        "input_size=28*28\n",
        "hidden_size =100\n",
        "num_classes =10\n",
        "epochs=2\n",
        "batch_size=64\n",
        "learning_rate=0.01"
      ]
    },
    {
      "cell_type": "markdown",
      "metadata": {},
      "source": [
        "# MNIST"
      ]
    },
    {
      "cell_type": "code",
      "execution_count": null,
      "metadata": {
        "execution": {
          "iopub.execute_input": "2024-01-16T11:18:08.207538Z",
          "iopub.status.busy": "2024-01-16T11:18:08.207091Z",
          "iopub.status.idle": "2024-01-16T11:18:09.362482Z",
          "shell.execute_reply": "2024-01-16T11:18:09.361407Z",
          "shell.execute_reply.started": "2024-01-16T11:18:08.207500Z"
        },
        "trusted": true
      },
      "outputs": [],
      "source": [
        "train_dataset=torchvision.datasets.MNIST(root='../data',train=True,\n",
        "                                        transform=transforms.ToTensor(),download=True)\n",
        "test_dataset=torchvision.datasets.MNIST(root='../data',train=False,\n",
        "                                        transform=transforms.ToTensor())"
      ]
    },
    {
      "cell_type": "code",
      "execution_count": null,
      "metadata": {
        "execution": {
          "iopub.execute_input": "2024-01-16T11:22:10.872720Z",
          "iopub.status.busy": "2024-01-16T11:22:10.872284Z",
          "iopub.status.idle": "2024-01-16T11:22:10.880546Z",
          "shell.execute_reply": "2024-01-16T11:22:10.879056Z",
          "shell.execute_reply.started": "2024-01-16T11:22:10.872687Z"
        },
        "trusted": true
      },
      "outputs": [],
      "source": [
        "train_loader = torch.utils.data.DataLoader(dataset=train_dataset,batch_size=batch_size,\n",
        "                                          shuffle=True)\n",
        "test_loader = torch.utils.data.DataLoader(dataset=test_dataset,batch_size=batch_size,\n",
        "                                          shuffle=False)"
      ]
    },
    {
      "cell_type": "code",
      "execution_count": null,
      "metadata": {
        "execution": {
          "iopub.execute_input": "2024-01-16T11:27:33.769620Z",
          "iopub.status.busy": "2024-01-16T11:27:33.769202Z",
          "iopub.status.idle": "2024-01-16T11:27:33.791591Z",
          "shell.execute_reply": "2024-01-16T11:27:33.790517Z",
          "shell.execute_reply.started": "2024-01-16T11:27:33.769587Z"
        },
        "trusted": true
      },
      "outputs": [
        {
          "name": "stdout",
          "output_type": "stream",
          "text": [
            "torch.Size([64, 1, 28, 28]) torch.Size([64])\n"
          ]
        }
      ],
      "source": [
        "examples=iter(train_loader)\n",
        "samples,labels=examples._next_data()\n",
        "print(samples.shape,labels.shape)"
      ]
    },
    {
      "cell_type": "code",
      "execution_count": null,
      "metadata": {
        "execution": {
          "iopub.execute_input": "2024-01-16T11:31:50.824034Z",
          "iopub.status.busy": "2024-01-16T11:31:50.822893Z",
          "iopub.status.idle": "2024-01-16T11:31:51.592083Z",
          "shell.execute_reply": "2024-01-16T11:31:51.590919Z",
          "shell.execute_reply.started": "2024-01-16T11:31:50.823990Z"
        },
        "trusted": true
      },
      "outputs": [],
      "source": [
        "# for i in range(6):\n",
        "#     plt.subplot(2,3,i+1)\n",
        "#     plt.imshow(samples[i][0],cmap='gray')\n",
        "# plt.show()"
      ]
    },
    {
      "cell_type": "markdown",
      "metadata": {},
      "source": [
        "# Model"
      ]
    },
    {
      "cell_type": "code",
      "execution_count": null,
      "metadata": {
        "execution": {
          "iopub.execute_input": "2024-01-16T11:40:10.796574Z",
          "iopub.status.busy": "2024-01-16T11:40:10.796176Z",
          "iopub.status.idle": "2024-01-16T11:40:10.803580Z",
          "shell.execute_reply": "2024-01-16T11:40:10.802434Z",
          "shell.execute_reply.started": "2024-01-16T11:40:10.796545Z"
        },
        "trusted": true
      },
      "outputs": [],
      "source": [
        "class NeuralNet(nn.Module):\n",
        "    def __init__(self, hidden_size, num_classes):\n",
        "        super(NeuralNet, self).__init__()\n",
        "        self.cnn = nn.Conv2d(\n",
        "            in_channels=1, out_channels=16, kernel_size=5, stride=1, padding=2\n",
        "        )\n",
        "        self.relu = nn.ReLU()\n",
        "        self.pool = nn.MaxPool2d(kernel_size=2, stride=2, padding=0)\n",
        "        self.fc1 = nn.Linear(16 * 14 * 14, hidden_size)\n",
        "        self.dropout = nn.Dropout(p=0.5)\n",
        "        self.fc2 = nn.Linear(hidden_size, num_classes)\n",
        "\n",
        "    def forward(self, x):\n",
        "        out = self.cnn(x)\n",
        "        out = self.relu(out)\n",
        "        out = self.pool(out)\n",
        "        out = out.view(out.size(0), -1)\n",
        "        out = self.fc1(out)\n",
        "        out = self.relu(out)\n",
        "        out = self.dropout(out)\n",
        "        out = self.fc2(out)\n",
        "        return out\n"
      ]
    },
    {
      "cell_type": "code",
      "execution_count": null,
      "metadata": {
        "execution": {
          "iopub.execute_input": "2024-01-16T11:41:13.357804Z",
          "iopub.status.busy": "2024-01-16T11:41:13.357365Z",
          "iopub.status.idle": "2024-01-16T11:41:13.366454Z",
          "shell.execute_reply": "2024-01-16T11:41:13.365109Z",
          "shell.execute_reply.started": "2024-01-16T11:41:13.357767Z"
        },
        "trusted": true
      },
      "outputs": [],
      "source": [
        "model=NeuralNet(hidden_size,num_classes)\n",
        "criterion=nn.CrossEntropyLoss()\n",
        "optimizer=torch.optim.Adam(model.parameters(),lr=learning_rate)"
      ]
    },
    {
      "cell_type": "code",
      "execution_count": null,
      "metadata": {
        "execution": {
          "iopub.execute_input": "2024-01-16T11:49:00.794348Z",
          "iopub.status.busy": "2024-01-16T11:49:00.793942Z",
          "iopub.status.idle": "2024-01-16T11:49:19.007355Z",
          "shell.execute_reply": "2024-01-16T11:49:19.006345Z",
          "shell.execute_reply.started": "2024-01-16T11:49:00.794316Z"
        },
        "trusted": true
      },
      "outputs": [
        {
          "name": "stdout",
          "output_type": "stream",
          "text": [
            "epoch 1/2,step 64/938,loss=0.4350\n",
            "epoch 1/2,step 128/938,loss=0.2257\n",
            "epoch 1/2,step 192/938,loss=0.1110\n",
            "epoch 1/2,step 256/938,loss=0.1116\n",
            "epoch 1/2,step 320/938,loss=0.0909\n",
            "epoch 1/2,step 384/938,loss=0.1317\n",
            "epoch 1/2,step 448/938,loss=0.2119\n",
            "epoch 1/2,step 512/938,loss=0.2762\n",
            "epoch 1/2,step 576/938,loss=0.1751\n",
            "epoch 1/2,step 640/938,loss=0.0461\n",
            "epoch 1/2,step 704/938,loss=0.0939\n",
            "epoch 1/2,step 768/938,loss=0.1976\n",
            "epoch 1/2,step 832/938,loss=0.1375\n",
            "epoch 1/2,step 896/938,loss=0.1476\n",
            "epoch 2/2,step 64/938,loss=0.0534\n",
            "epoch 2/2,step 128/938,loss=0.0338\n",
            "epoch 2/2,step 192/938,loss=0.1704\n",
            "epoch 2/2,step 256/938,loss=0.0867\n",
            "epoch 2/2,step 320/938,loss=0.0456\n",
            "epoch 2/2,step 384/938,loss=0.1649\n",
            "epoch 2/2,step 448/938,loss=0.0759\n",
            "epoch 2/2,step 512/938,loss=0.0758\n",
            "epoch 2/2,step 576/938,loss=0.1092\n",
            "epoch 2/2,step 640/938,loss=0.1272\n",
            "epoch 2/2,step 704/938,loss=0.2066\n",
            "epoch 2/2,step 768/938,loss=0.1963\n",
            "epoch 2/2,step 832/938,loss=0.0627\n",
            "epoch 2/2,step 896/938,loss=0.2198\n"
          ]
        }
      ],
      "source": [
        "n_total_steps=len(train_loader)\n",
        "for epoch in range(epochs):\n",
        "    for i,(images,labels) in enumerate(train_loader):\n",
        "        images=images.to(device)\n",
        "        labels=labels.to(device)\n",
        "        \n",
        "        outputs=model(images)\n",
        "        loss= criterion(outputs,labels)\n",
        "        \n",
        "        optimizer.zero_grad()\n",
        "        loss.backward()\n",
        "        optimizer.step()\n",
        "        \n",
        "        if (i+1)%64==0:\n",
        "            print(f'epoch {epoch+1}/{epochs},step {i+1}/{n_total_steps},loss={loss.item():.4f}')\n",
        "        "
      ]
    },
    {
      "cell_type": "markdown",
      "metadata": {},
      "source": [
        "# Test"
      ]
    },
    {
      "cell_type": "code",
      "execution_count": null,
      "metadata": {
        "execution": {
          "iopub.execute_input": "2024-01-16T11:54:07.971375Z",
          "iopub.status.busy": "2024-01-16T11:54:07.970464Z",
          "iopub.status.idle": "2024-01-16T11:54:09.269419Z",
          "shell.execute_reply": "2024-01-16T11:54:09.268097Z",
          "shell.execute_reply.started": "2024-01-16T11:54:07.971335Z"
        },
        "trusted": true
      },
      "outputs": [
        {
          "name": "stdout",
          "output_type": "stream",
          "text": [
            "accuracy=96.03\n"
          ]
        }
      ],
      "source": [
        "with torch.no_grad():\n",
        "    n_correct=0\n",
        "    n_samples=0\n",
        "    for images,labels in test_loader:\n",
        "        images=images.to(device)\n",
        "        labels=labels.to(device)\n",
        "        outputs=model(images)\n",
        "        \n",
        "        #value,index\n",
        "        _,prediction=torch.max(outputs,1)\n",
        "        n_samples += labels.shape[0]\n",
        "        n_correct += (prediction==labels).sum().item()\n",
        "        \n",
        "    acc=100*n_correct / n_samples\n",
        "    print(f'accuracy={acc}')"
      ]
    },
    {
      "cell_type": "code",
      "execution_count": null,
      "metadata": {},
      "outputs": [],
      "source": []
    }
  ],
  "metadata": {
    "kaggle": {
      "accelerator": "none",
      "dataSources": [],
      "dockerImageVersionId": 30635,
      "isGpuEnabled": false,
      "isInternetEnabled": true,
      "language": "python",
      "sourceType": "notebook"
    },
    "kernelspec": {
      "display_name": "fuse",
      "language": "python",
      "name": "python3"
    },
    "language_info": {
      "codemirror_mode": {
        "name": "ipython",
        "version": 3
      },
      "file_extension": ".py",
      "mimetype": "text/x-python",
      "name": "python",
      "nbconvert_exporter": "python",
      "pygments_lexer": "ipython3",
      "version": "3.9.21"
    }
  },
  "nbformat": 4,
  "nbformat_minor": 4
}
